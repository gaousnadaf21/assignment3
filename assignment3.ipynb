{
 "cells": [
  {
   "cell_type": "markdown",
   "id": "25d87b8a-d7d9-405c-8cc9-aeb547cd0237",
   "metadata": {},
   "source": [
    "#Explain the significance of Python keywords and provide examples of five keywords"
   ]
  },
  {
   "cell_type": "code",
   "execution_count": 2,
   "id": "5758a3c0-5e5b-4dbc-87b3-a7840c7bf3d6",
   "metadata": {},
   "outputs": [
    {
     "name": "stdout",
     "output_type": "stream",
     "text": [
      "x is greater than 5\n"
     ]
    }
   ],
   "source": [
    "x = 10 \n",
    "if x>5 :\n",
    "    print(\"x is greater than 5\")"
   ]
  },
  {
   "cell_type": "code",
   "execution_count": 7,
   "id": "89fec2b6-4cc4-45e9-876b-4d16750a282c",
   "metadata": {},
   "outputs": [
    {
     "name": "stdout",
     "output_type": "stream",
     "text": [
      "apple\n",
      "banana\n",
      "cherry\n"
     ]
    }
   ],
   "source": [
    "fruits = [\"apple\",\"banana\",\"cherry\"]\n",
    "for fruit in fruits:\n",
    "    print(fruit)"
   ]
  },
  {
   "cell_type": "code",
   "execution_count": 8,
   "id": "efad4e64-5930-4316-811b-a486748da542",
   "metadata": {},
   "outputs": [
    {
     "name": "stdout",
     "output_type": "stream",
     "text": [
      "my name is ajay\n",
      "my name is imran\n",
      "my name is gaous\n"
     ]
    }
   ],
   "source": [
    "print(\"my name is ajay\")\n",
    "print(\"my name is imran\")\n",
    "print(\"my name is gaous\")"
   ]
  },
  {
   "cell_type": "code",
   "execution_count": 10,
   "id": "f3902347-5094-4ad0-814b-2b84746d9528",
   "metadata": {},
   "outputs": [],
   "source": [
    "def greet(n):\n",
    "    print(\"my name is\",n)"
   ]
  },
  {
   "cell_type": "code",
   "execution_count": 11,
   "id": "776196ab-2a4a-42f0-9bb8-6018f0a909de",
   "metadata": {},
   "outputs": [
    {
     "name": "stdout",
     "output_type": "stream",
     "text": [
      "my name is ayesha\n"
     ]
    }
   ],
   "source": [
    "greet(\"ayesha\")"
   ]
  },
  {
   "cell_type": "code",
   "execution_count": 5,
   "id": "f63f8f95-e4e1-4de4-a8a3-3a7c965d214a",
   "metadata": {},
   "outputs": [
    {
     "name": "stdout",
     "output_type": "stream",
     "text": [
      "count:{count}\n",
      "count:{count}\n",
      "count:{count}\n",
      "count:{count}\n",
      "count:{count}\n"
     ]
    }
   ],
   "source": [
    "count = 0\n",
    "while count < 5:\n",
    "    print(\"count:{count}\")\n",
    "    count += 1"
   ]
  },
  {
   "cell_type": "code",
   "execution_count": 6,
   "id": "8e6020db-f010-4a9b-a391-258ba89a0d52",
   "metadata": {},
   "outputs": [],
   "source": [
    "def fun():\n",
    "    return \"this is my function \""
   ]
  },
  {
   "cell_type": "code",
   "execution_count": 7,
   "id": "6e502a9b-125c-412b-9abc-2f9d1b16083e",
   "metadata": {},
   "outputs": [
    {
     "data": {
      "text/plain": [
       "'this is my function in python'"
      ]
     },
     "execution_count": 7,
     "metadata": {},
     "output_type": "execute_result"
    }
   ],
   "source": [
    "fun()+ \"in python\""
   ]
  },
  {
   "cell_type": "markdown",
   "id": "8aeaf709-1240-4611-a5aa-aab2358caa70",
   "metadata": {},
   "source": [
    "#Describe the rules for defining identifiers in Python and provide an example"
   ]
  },
  {
   "cell_type": "markdown",
   "id": "9b0a67c4-eb71-4aed-a370-b7acbb4018c0",
   "metadata": {},
   "source": [
    "def is_valid_identifier(s):\n",
    "    return s.isidentifier() and not keyword.iskeyword(s)\n",
    "\n",
    "print(is_valid_identifier(\"for\"))  # False\n"
   ]
  },
  {
   "cell_type": "markdown",
   "id": "fbe84b92-d003-40f6-b998-0f5d003f5ba5",
   "metadata": {},
   "source": [
    "#quetion :What are comments in Python, and why are they useful6 Provide an example"
   ]
  },
  {
   "cell_type": "markdown",
   "id": "4896671d-7565-4ce9-b8a3-29d82d424a2c",
   "metadata": {},
   "source": [
    "ans: comments are hints, explanations or identification for code to know how that code arrives or exicutive "
   ]
  },
  {
   "cell_type": "markdown",
   "id": "d93cac31-227c-4d4d-a109-e9291c163f0a",
   "metadata": {},
   "source": [
    "examples are .... markdown ,\",' or any specific keyword"
   ]
  },
  {
   "cell_type": "markdown",
   "id": "c54edaf6-2162-43db-bef2-c29de1ceccfb",
   "metadata": {},
   "source": [
    "#quetion :Why is proper indentation important in Python"
   ]
  },
  {
   "cell_type": "markdown",
   "id": "c82ce939-a8d7-44dc-830b-76d69faba313",
   "metadata": {},
   "source": [
    "ans = because it significantly impacts code readability, structure, and functionality"
   ]
  },
  {
   "cell_type": "markdown",
   "id": "3c281e78-9329-415f-a65a-c872fae507b8",
   "metadata": {},
   "source": [
    "#quetion : What happens if indentation is incorrect in Python"
   ]
  },
  {
   "cell_type": "markdown",
   "id": "519afc72-fb44-4593-99cf-2bbf775909ba",
   "metadata": {},
   "source": [
    "ans = affecting the readability and functionality of your code"
   ]
  },
  {
   "cell_type": "markdown",
   "id": "0a05ce44-3652-4d16-a9ad-78bf883b1b12",
   "metadata": {},
   "source": [
    "#Differentiate between expression and statement in Python with examples"
   ]
  },
  {
   "cell_type": "code",
   "execution_count": null,
   "id": "66f0ebd4-4f5f-4761-aff0-2d0206005a99",
   "metadata": {},
   "outputs": [],
   "source": []
  }
 ],
 "metadata": {
  "kernelspec": {
   "display_name": "Python 3 (ipykernel)",
   "language": "python",
   "name": "python3"
  },
  "language_info": {
   "codemirror_mode": {
    "name": "ipython",
    "version": 3
   },
   "file_extension": ".py",
   "mimetype": "text/x-python",
   "name": "python",
   "nbconvert_exporter": "python",
   "pygments_lexer": "ipython3",
   "version": "3.10.8"
  }
 },
 "nbformat": 4,
 "nbformat_minor": 5
}
